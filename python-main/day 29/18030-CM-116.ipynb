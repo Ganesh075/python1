{
 "cells": [
  {
   "cell_type": "code",
   "execution_count": 5,
   "metadata": {},
   "outputs": [
    {
     "name": "stdout",
     "output_type": "stream",
     "text": [
      "2\n",
      "2\n"
     ]
    }
   ],
   "source": [
    "n=int(input())\n",
    "factorial=1\n",
    "while(n>1):\n",
    "    factorial=factorial*n\n",
    "    n-=1\n",
    "print(factorial)"
   ]
  },
  {
   "cell_type": "code",
   "execution_count": 4,
   "metadata": {},
   "outputs": [
    {
     "name": "stdout",
     "output_type": "stream",
     "text": [
      "aba\n",
      "4\n"
     ]
    }
   ],
   "source": [
    "a=input()\n",
    "Sum=0\n",
    "for i in a:\n",
    "    Sum=Sum+(ord(i)-96)\n",
    "print(Sum)"
   ]
  },
  {
   "cell_type": "code",
   "execution_count": 7,
   "metadata": {},
   "outputs": [
    {
     "name": "stdout",
     "output_type": "stream",
     "text": [
      "1\n",
      "10\n",
      "1\n",
      "10\n"
     ]
    }
   ],
   "source": [
    "l=int(input())\n",
    "r=int(input())\n",
    "k=int(input())\n",
    "count=0\n",
    "for i in range(l,r+1):\n",
    "    if(i%k==0):\n",
    "        count+=1\n",
    "print(count)\n",
    "        "
   ]
  },
  {
   "cell_type": "code",
   "execution_count": 6,
   "metadata": {},
   "outputs": [
    {
     "name": "stdout",
     "output_type": "stream",
     "text": [
      "zzzoooooo\n",
      "Yes\n"
     ]
    }
   ],
   "source": [
    "a=input()\n",
    "\n",
    "x=a.count('z')\n",
    "\n",
    "y=a.count('o')\n",
    "\n",
    "if 2*x==y:\n",
    "\n",
    "    print('Yes')\n",
    "\n",
    "else:\n",
    "\n",
    "    print('No')"
   ]
  },
  {
   "cell_type": "code",
   "execution_count": null,
   "metadata": {},
   "outputs": [],
   "source": []
  }
 ],
 "metadata": {
  "kernelspec": {
   "display_name": "Python 3",
   "language": "python",
   "name": "python3"
  },
  "language_info": {
   "codemirror_mode": {
    "name": "ipython",
    "version": 3
   },
   "file_extension": ".py",
   "mimetype": "text/x-python",
   "name": "python",
   "nbconvert_exporter": "python",
   "pygments_lexer": "ipython3",
   "version": "3.7.4"
  }
 },
 "nbformat": 4,
 "nbformat_minor": 4
}
