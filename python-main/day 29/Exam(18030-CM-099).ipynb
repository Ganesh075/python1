{
 "cells": [
  {
   "cell_type": "code",
   "execution_count": 3,
   "metadata": {},
   "outputs": [
    {
     "name": "stdout",
     "output_type": "stream",
     "text": [
      "2\n",
      "2\n"
     ]
    }
   ],
   "source": [
    "N=int(input())\n",
    "fact=1\n",
    "while(N>1):\n",
    "    fact=fact*N\n",
    "    N-=1\n",
    "print(fact)"
   ]
  },
  {
   "cell_type": "code",
   "execution_count": 40,
   "metadata": {},
   "outputs": [
    {
     "name": "stdout",
     "output_type": "stream",
     "text": [
      "aba\n",
      "4\n"
     ]
    }
   ],
   "source": [
    "S=input()\n",
    "Sum=0\n",
    "for i in S:\n",
    "    Sum=Sum+(ord(i)-96)\n",
    "print(Sum) \n",
    "    \n",
    "    "
   ]
  },
  {
   "cell_type": "code",
   "execution_count": 24,
   "metadata": {},
   "outputs": [
    {
     "name": "stdout",
     "output_type": "stream",
     "text": [
      "1\n",
      "10\n",
      "1\n",
      "10\n"
     ]
    }
   ],
   "source": [
    "l=int(input())\n",
    "r=int(input())\n",
    "k=int(input())\n",
    "count=0\n",
    "for i in range(l,r+1):\n",
    "    if(i%k==0):\n",
    "        count+=1\n",
    "print(count)\n",
    "        "
   ]
  },
  {
   "cell_type": "code",
   "execution_count": 28,
   "metadata": {},
   "outputs": [
    {
     "name": "stdout",
     "output_type": "stream",
     "text": [
      "zzzoooooo\n",
      "Yes\n"
     ]
    }
   ],
   "source": [
    "a=input()\n",
    "\n",
    "x=a.count('z')\n",
    "\n",
    "y=a.count('o')\n",
    "\n",
    "if 2*x==y:\n",
    "\n",
    "    print('Yes')\n",
    "\n",
    "else:\n",
    "\n",
    "    print('No')"
   ]
  }
 ],
 "metadata": {
  "kernelspec": {
   "display_name": "Python 3",
   "language": "python",
   "name": "python3"
  },
  "language_info": {
   "codemirror_mode": {
    "name": "ipython",
    "version": 3
   },
   "file_extension": ".py",
   "mimetype": "text/x-python",
   "name": "python",
   "nbconvert_exporter": "python",
   "pygments_lexer": "ipython3",
   "version": "3.7.4"
  }
 },
 "nbformat": 4,
 "nbformat_minor": 4
}
